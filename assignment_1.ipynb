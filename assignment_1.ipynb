{
  "nbformat": 4,
  "nbformat_minor": 0,
  "metadata": {
    "colab": {
      "provenance": []
    },
    "kernelspec": {
      "name": "python3",
      "display_name": "Python 3"
    },
    "language_info": {
      "name": "python"
    }
  },
  "cells": [
    {
      "cell_type": "code",
      "execution_count": null,
      "metadata": {
        "id": "C--8fbNxjE-F"
      },
      "outputs": [],
      "source": [
        "#Que 1"
      ]
    },
    {
      "cell_type": "code",
      "source": [
        "import numpy as np"
      ],
      "metadata": {
        "id": "6LZcbXe5lhmF"
      },
      "execution_count": null,
      "outputs": []
    },
    {
      "cell_type": "code",
      "source": [
        "\n",
        "def count_chars():\n",
        "  user_input = input(\"enter a string value: \")\n",
        "  char_count = {}\n",
        "  for char in user_input:\n",
        "    if char in char_count:\n",
        "      char_count[char] += 1\n",
        "    else:\n",
        "      char_count[char] = 1\n",
        "  for char, count in char_count.items():\n",
        "    print(f\"{char}={count}\",end=\",\")\n",
        "count_chars()"
      ],
      "metadata": {
        "colab": {
          "base_uri": "https://localhost:8080/"
        },
        "id": "86dqs7INjHvW",
        "outputId": "e48166ae-162d-4482-cc91-12f28982e13a"
      },
      "execution_count": null,
      "outputs": [
        {
          "output_type": "stream",
          "name": "stdout",
          "text": [
            "enter a string value: assambly\n",
            "a=2,s=2,m=1,b=1,l=1,y=1,"
          ]
        }
      ]
    },
    {
      "cell_type": "code",
      "source": [
        "#QUE 2"
      ],
      "metadata": {
        "id": "4I-ndT5wjReI"
      },
      "execution_count": null,
      "outputs": []
    },
    {
      "cell_type": "code",
      "source": [
        "Data=[34,12,17]\n",
        "Data"
      ],
      "metadata": {
        "colab": {
          "base_uri": "https://localhost:8080/"
        },
        "id": "yyho0dZ-jVcu",
        "outputId": "a844f2a5-a46c-4a34-920f-43ed46eb0568"
      },
      "execution_count": null,
      "outputs": [
        {
          "output_type": "execute_result",
          "data": {
            "text/plain": [
              "[34, 12, 17]"
            ]
          },
          "metadata": {},
          "execution_count": 5
        }
      ]
    },
    {
      "cell_type": "code",
      "source": [
        "data=np.array([34,12,17])\n",
        "data"
      ],
      "metadata": {
        "colab": {
          "base_uri": "https://localhost:8080/"
        },
        "id": "3p3KxzqVloei",
        "outputId": "22eca010-4ff8-4f7c-ce2e-a51e1fe065ed"
      },
      "execution_count": null,
      "outputs": [
        {
          "output_type": "execute_result",
          "data": {
            "text/plain": [
              "array([34, 12, 17])"
            ]
          },
          "metadata": {},
          "execution_count": 8
        }
      ]
    },
    {
      "cell_type": "code",
      "source": [
        "data. max()"
      ],
      "metadata": {
        "colab": {
          "base_uri": "https://localhost:8080/"
        },
        "id": "BaUJotiXl0sh",
        "outputId": "af5da794-5803-4fc5-bd15-30bf79c1a056"
      },
      "execution_count": null,
      "outputs": [
        {
          "output_type": "execute_result",
          "data": {
            "text/plain": [
              "34"
            ]
          },
          "metadata": {},
          "execution_count": 9
        }
      ]
    },
    {
      "cell_type": "code",
      "source": [
        "#Que 3"
      ],
      "metadata": {
        "id": "2-WwNgJ3l3v7"
      },
      "execution_count": null,
      "outputs": []
    },
    {
      "cell_type": "code",
      "source": [
        "base=int(input(\"enter the base:\"))\n",
        "exp = int (input(\"enter the exponent:\"))\n",
        "result=(base**exp)\n",
        "print(result)"
      ],
      "metadata": {
        "colab": {
          "base_uri": "https://localhost:8080/"
        },
        "id": "UL86Bwuul54F",
        "outputId": "7fa663a4-c33d-4cf5-b959-3a4b1f0689e5"
      },
      "execution_count": null,
      "outputs": [
        {
          "output_type": "stream",
          "name": "stdout",
          "text": [
            "enter the base:2\n",
            "enter the exponent:3\n",
            "8\n"
          ]
        }
      ]
    },
    {
      "cell_type": "code",
      "source": [
        "#Que4"
      ],
      "metadata": {
        "id": "auocgcysoTvz"
      },
      "execution_count": null,
      "outputs": []
    },
    {
      "cell_type": "code",
      "source": [
        "def sum_of_cubes(n):\n",
        "  return sum(i**3 for i in range(1,n))\n",
        "result=sum_of_cubes(4)\n",
        "print(result)"
      ],
      "metadata": {
        "colab": {
          "base_uri": "https://localhost:8080/"
        },
        "id": "XGjvHpMbqCSP",
        "outputId": "c3868479-6dea-41f9-da77-2f2cbd2b8972"
      },
      "execution_count": null,
      "outputs": [
        {
          "output_type": "stream",
          "name": "stdout",
          "text": [
            "36\n"
          ]
        }
      ]
    },
    {
      "cell_type": "code",
      "source": [
        "#Que5"
      ],
      "metadata": {
        "id": "t4MIaceorcFH"
      },
      "execution_count": null,
      "outputs": []
    },
    {
      "cell_type": "code",
      "source": [
        "for i in range(1,11):\n",
        "  if i % 2 == 0 and i % 5 == 0:\n",
        "     print(\"FizzBuzz\")\n",
        "  elif i % 2 == 0:\n",
        "     print(\"Fizz\")\n",
        "  elif i % 5 == 0:\n",
        "     print(\"Buzz\")\n",
        "  else:\n",
        "     print(i)"
      ],
      "metadata": {
        "colab": {
          "base_uri": "https://localhost:8080/"
        },
        "id": "I1yZMkBZrtj7",
        "outputId": "45ff21c4-c0f8-4908-9e88-601558c08f91"
      },
      "execution_count": null,
      "outputs": [
        {
          "output_type": "stream",
          "name": "stdout",
          "text": [
            "1\n",
            "Fizz\n",
            "3\n",
            "Fizz\n",
            "Buzz\n",
            "Fizz\n",
            "7\n",
            "Fizz\n",
            "9\n",
            "FizzBuzz\n"
          ]
        }
      ]
    },
    {
      "cell_type": "code",
      "source": [
        "#Que 6"
      ],
      "metadata": {
        "id": "g366qxNgtZP0"
      },
      "execution_count": null,
      "outputs": []
    },
    {
      "cell_type": "code",
      "source": [
        "def most_frequent(numbers):\n",
        "   return max(set(numbers),key=numbers.count)\n",
        "numbers=[2,3,4,2,5,2]\n",
        "result=most_frequent(numbers)\n",
        "print(result)"
      ],
      "metadata": {
        "colab": {
          "base_uri": "https://localhost:8080/"
        },
        "id": "Vxk8S8tUtpQj",
        "outputId": "5141925b-3b4f-47cd-e67c-bb32a47c2989"
      },
      "execution_count": null,
      "outputs": [
        {
          "output_type": "stream",
          "name": "stdout",
          "text": [
            "2\n"
          ]
        }
      ]
    },
    {
      "cell_type": "code",
      "source": [
        "#Que 7"
      ],
      "metadata": {
        "id": "SISmEAehvG6q"
      },
      "execution_count": null,
      "outputs": []
    },
    {
      "cell_type": "code",
      "source": [
        "def sum_of_squares(numbers):\n",
        "  return sum(x**2 for x in numbers)\n",
        "numbers=[2,1,3,1]\n",
        "result=sum_of_squares(numbers)\n",
        "print(result)"
      ],
      "metadata": {
        "colab": {
          "base_uri": "https://localhost:8080/"
        },
        "id": "8LdNsGObvVKz",
        "outputId": "321d97a6-0b50-4894-d0c4-2d7651705402"
      },
      "execution_count": null,
      "outputs": [
        {
          "output_type": "stream",
          "name": "stdout",
          "text": [
            "15\n"
          ]
        }
      ]
    },
    {
      "cell_type": "code",
      "source": [
        "#Que 8"
      ],
      "metadata": {
        "id": "_rbuqyOgwM2P"
      },
      "execution_count": null,
      "outputs": []
    },
    {
      "cell_type": "code",
      "source": [
        "for i in range(1,16):\n",
        "   if i % 2 == 0:\n",
        "      print(f\"{i}-even\")\n",
        "   else:\n",
        "      print(f\"{i}-odd\")"
      ],
      "metadata": {
        "colab": {
          "base_uri": "https://localhost:8080/"
        },
        "id": "l4VqwWdkwQ1a",
        "outputId": "64c91c27-c00b-474f-f232-7af9f7a61ada"
      },
      "execution_count": null,
      "outputs": [
        {
          "output_type": "stream",
          "name": "stdout",
          "text": [
            "1-odd\n",
            "2-even\n",
            "3-odd\n",
            "4-even\n",
            "5-odd\n",
            "6-even\n",
            "7-odd\n",
            "8-even\n",
            "9-odd\n",
            "10-even\n",
            "11-odd\n",
            "12-even\n",
            "13-odd\n",
            "14-even\n",
            "15-odd\n"
          ]
        }
      ]
    },
    {
      "cell_type": "code",
      "source": [
        "#Que 9"
      ],
      "metadata": {
        "id": "jNTEpPMvxW74"
      },
      "execution_count": null,
      "outputs": []
    },
    {
      "cell_type": "code",
      "source": [
        "def fahrenheit_to_celsius(f):\n",
        "   return(f-32)*5/9\n",
        "def celsius_to_fahrenheit(c):\n",
        "   return(c*9/5)+32\n",
        "f=41\n",
        "c=fahrenheit_to_celsius(f)\n",
        "print(f\"temparature in Celsius={c}\")\n",
        "c=5\n",
        "f=celsius_to_fahrenheit(c)\n",
        "print(f\"temparature in fahrenheit={f}\")"
      ],
      "metadata": {
        "colab": {
          "base_uri": "https://localhost:8080/"
        },
        "id": "z8K-dFAPxofy",
        "outputId": "40c1b069-98c9-4f9f-f824-f4df75b67b96"
      },
      "execution_count": null,
      "outputs": [
        {
          "output_type": "stream",
          "name": "stdout",
          "text": [
            "temparature in Celsius=5.0\n",
            "temparature in fahrenheit=41.0\n"
          ]
        }
      ]
    },
    {
      "cell_type": "code",
      "source": [
        "#Que 10"
      ],
      "metadata": {
        "id": "u0azfChT0drr"
      },
      "execution_count": null,
      "outputs": []
    },
    {
      "cell_type": "code",
      "source": [
        "def factorial(n):\n",
        "  result = 1\n",
        "  for i in range(1,n+1):\n",
        "   result*=i\n",
        "  return result"
      ],
      "metadata": {
        "id": "RF5d8OSr2qPP"
      },
      "execution_count": null,
      "outputs": []
    },
    {
      "cell_type": "code",
      "source": [
        "print(factorial(3))"
      ],
      "metadata": {
        "colab": {
          "base_uri": "https://localhost:8080/"
        },
        "id": "FsixF1gu3qA2",
        "outputId": "7d4163fa-940a-401c-def4-6443f123660e"
      },
      "execution_count": null,
      "outputs": [
        {
          "output_type": "stream",
          "name": "stdout",
          "text": [
            "6\n"
          ]
        }
      ]
    }
  ]
}